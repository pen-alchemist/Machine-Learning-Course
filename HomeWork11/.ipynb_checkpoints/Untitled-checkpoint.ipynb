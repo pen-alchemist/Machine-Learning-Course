{
 "cells": [
  {
   "cell_type": "code",
   "execution_count": 63,
   "id": "89d5b489-0f55-4827-835e-37366bfc2dbb",
   "metadata": {},
   "outputs": [],
   "source": [
    "import pandas as pd\n",
    "import numpy as np\n",
    "import re\n",
    "import string\n",
    "import nltk\n",
    "import gensim\n",
    "\n",
    "from nltk.tokenize import word_tokenize\n",
    "from nltk.corpus import stopwords\n",
    "from nltk.tokenize import word_tokenize\n",
    "from nltk.stem import SnowballStemmer\n",
    "from nltk.corpus import wordnet\n",
    "from nltk import word_tokenize\n",
    "\n",
    "from sklearn.model_selection import train_test_split\n",
    "from sklearn.linear_model import LogisticRegression\n",
    "from sklearn.naive_bayes import MultinomialNB\n",
    "from sklearn.metrics import classification_report, f1_score, accuracy_score, confusion_matrix\n",
    "from sklearn.metrics import roc_curve, auc, roc_auc_score# bag of words\n",
    "from sklearn.feature_extraction.text import TfidfVectorizer\n",
    "from sklearn.feature_extraction.text import CountVectorizer#for word embedding\n",
    "\n",
    "from gensim.models import Word2Vec"
   ]
  },
  {
   "cell_type": "code",
   "execution_count": 40,
   "id": "d9d4e06b-1d00-47ee-b352-1f3fc3ff2e23",
   "metadata": {},
   "outputs": [
    {
     "name": "stderr",
     "output_type": "stream",
     "text": [
      "[nltk_data] Downloading package punkt to /home/nonevalue/nltk_data...\n",
      "[nltk_data]   Unzipping tokenizers/punkt.zip.\n"
     ]
    },
    {
     "data": {
      "text/plain": [
       "True"
      ]
     },
     "execution_count": 40,
     "metadata": {},
     "output_type": "execute_result"
    }
   ],
   "source": [
    "nltk.download('punkt')"
   ]
  },
  {
   "cell_type": "code",
   "execution_count": 47,
   "id": "c70ddc41-cdc8-4771-a5f1-5c1a24e326ce",
   "metadata": {},
   "outputs": [
    {
     "name": "stderr",
     "output_type": "stream",
     "text": [
      "[nltk_data] Downloading package stopwords to\n",
      "[nltk_data]     /home/nonevalue/nltk_data...\n",
      "[nltk_data]   Unzipping corpora/stopwords.zip.\n"
     ]
    },
    {
     "data": {
      "text/plain": [
       "True"
      ]
     },
     "execution_count": 47,
     "metadata": {},
     "output_type": "execute_result"
    }
   ],
   "source": [
    "nltk.download('stopwords')"
   ]
  },
  {
   "cell_type": "code",
   "execution_count": 64,
   "id": "1fd5ee04-1c4f-4259-8e28-6f79ae59c47b",
   "metadata": {},
   "outputs": [],
   "source": [
    "def preprocess(input_text):\n",
    "    input_text = input_text.lower() \n",
    "    input_text = input_text.strip()  \n",
    "    input_text = re.compile('<.*?>').sub('', input_text) \n",
    "    input_text = re.compile('[%s]' % re.escape(string.punctuation)).sub(' ', input_text)  \n",
    "    input_text = re.sub('\\s+', ' ', input_text)  \n",
    "    input_text = re.sub(r'\\[[0-9]*\\]', ' ', input_text) \n",
    "    input_text= re.sub(r'[^\\w\\s]', '', str(input_text).lower().strip())\n",
    "    input_text = re.sub(r'\\d', ' ', input_text) \n",
    "    input_text = re.sub(r'\\s+', ' ', input_text) \n",
    "    \n",
    "    return input_text"
   ]
  },
  {
   "cell_type": "code",
   "execution_count": 66,
   "id": "8284fad8-84f4-49eb-801a-1d8fc5ea7ac9",
   "metadata": {},
   "outputs": [],
   "source": [
    "def stopword(string):\n",
    "    a= [i for i in string.split() if i not in stopwords.words('english')]\n",
    "    \n",
    "    return ' '.join(a)"
   ]
  },
  {
   "cell_type": "code",
   "execution_count": 24,
   "id": "36396548-0956-47fe-9f32-b2ba5791065f",
   "metadata": {},
   "outputs": [],
   "source": [
    "start_char = 1\n",
    "oov_char = 2\n",
    "index_from = 3\n",
    "\n",
    "(x_train, _), _ = imdb.load_data(\n",
    "    start_char=start_char, oov_char=oov_char, index_from=index_from\n",
    ")"
   ]
  },
  {
   "cell_type": "code",
   "execution_count": 58,
   "id": "3c628939-6fbc-4ff4-90e4-52ef8f5849ec",
   "metadata": {},
   "outputs": [
    {
     "ename": "NameError",
     "evalue": "name 'KeyedVectors' is not defined",
     "output_type": "error",
     "traceback": [
      "\u001b[0;31m---------------------------------------------------------------------------\u001b[0m",
      "\u001b[0;31mNameError\u001b[0m                                 Traceback (most recent call last)",
      "Cell \u001b[0;32mIn[58], line 1\u001b[0m\n\u001b[0;32m----> 1\u001b[0m model \u001b[38;5;241m=\u001b[39m \u001b[43mKeyedVectors\u001b[49m\u001b[38;5;241m.\u001b[39mload_word2vec_format(\u001b[38;5;124m\"\u001b[39m\u001b[38;5;124mGoogleNews-vectors-negative300.bin.gz\u001b[39m\u001b[38;5;124m\"\u001b[39m, binary\u001b[38;5;241m=\u001b[39m\u001b[38;5;28;01mTrue\u001b[39;00m)\n",
      "\u001b[0;31mNameError\u001b[0m: name 'KeyedVectors' is not defined"
     ]
    }
   ],
   "source": [
    "model = KeyedVectors.load_word2vec_format(\"GoogleNews-vectors-negative300.bin.gz\", binary=True)"
   ]
  },
  {
   "cell_type": "code",
   "execution_count": null,
   "id": "d584855a-e37d-46a1-bbed-2d2a2948805b",
   "metadata": {},
   "outputs": [],
   "source": [
    "model.train(x_train, workers=2)"
   ]
  },
  {
   "cell_type": "code",
   "execution_count": 67,
   "id": "516ea9c5-93bf-4d60-a590-0788d3d3bf21",
   "metadata": {},
   "outputs": [],
   "source": [
    "review_text = 'Jacob stood on his tiptoes. The car is not blue. Kelly twirled in circles.'"
   ]
  },
  {
   "cell_type": "code",
   "execution_count": null,
   "id": "491fa41d-0573-4bcf-9ac2-8b48216d3320",
   "metadata": {},
   "outputs": [],
   "source": [
    "positive_words = ['good', 'nice', 'great', 'super', 'cool']"
   ]
  },
  {
   "cell_type": "code",
   "execution_count": 81,
   "id": "b9cd5869-4a2c-4a92-b45e-8ee55e660b29",
   "metadata": {},
   "outputs": [],
   "source": [
    "tokenizer = nltk.data.load('tokenizers/punkt/english.pickle')\n",
    "sentences = (('$%^&*(**@'.join(tokenizer.tokenize(review_text))).split('$%^&*(**@'))"
   ]
  },
  {
   "cell_type": "code",
   "execution_count": 97,
   "id": "8a7160b6-0acc-4b16-8eca-d9768995ffb4",
   "metadata": {},
   "outputs": [],
   "source": [
    "pre_sentences = [preprocess(_sentence) for _sentence in sentences]"
   ]
  },
  {
   "cell_type": "code",
   "execution_count": 98,
   "id": "f833ba46-2898-4024-a556-6f6b9be1868e",
   "metadata": {},
   "outputs": [],
   "source": [
    "tokenized_text = [word_tokenize(_sentence) for _sentence in pre_sentences]"
   ]
  },
  {
   "cell_type": "code",
   "execution_count": 99,
   "id": "8a3e803a-8cc7-4d10-a643-3949a231c5e1",
   "metadata": {},
   "outputs": [],
   "source": [
    "stem_word_list = [stopword(_sentence) for _sentence in pre_sentences]"
   ]
  },
  {
   "cell_type": "code",
   "execution_count": 103,
   "id": "209bc6fc-ba7c-44cc-b73c-1b3b955124d2",
   "metadata": {},
   "outputs": [
    {
     "data": {
      "text/plain": [
       "['jacob stood tiptoes', 'car blue', 'kelly twirled circles']"
      ]
     },
     "execution_count": 103,
     "metadata": {},
     "output_type": "execute_result"
    }
   ],
   "source": [
    "stem_word_list"
   ]
  },
  {
   "cell_type": "code",
   "execution_count": 104,
   "id": "f453594f-9e5e-487f-8122-e5e5a538534c",
   "metadata": {},
   "outputs": [],
   "source": [
    "vectorizer = CountVectorizer()\n",
    "X = vectorizer.fit_transform(stem_word_list)"
   ]
  },
  {
   "cell_type": "code",
   "execution_count": 108,
   "id": "c4eb24a9-fff8-49d1-a77f-cf7a94d6e14f",
   "metadata": {},
   "outputs": [],
   "source": [
    "positive_words = ['good', 'nice', 'great', 'super', 'cool']\n",
    "y = vectorizer.transform(stem_word_list)"
   ]
  },
  {
   "cell_type": "code",
   "execution_count": 101,
   "id": "110706c7-db24-4c4f-afa4-e1d98a04f52b",
   "metadata": {},
   "outputs": [
    {
     "ename": "NameError",
     "evalue": "name 'model' is not defined",
     "output_type": "error",
     "traceback": [
      "\u001b[0;31m---------------------------------------------------------------------------\u001b[0m",
      "\u001b[0;31mNameError\u001b[0m                                 Traceback (most recent call last)",
      "Cell \u001b[0;32mIn[101], line 5\u001b[0m\n\u001b[1;32m      3\u001b[0m \u001b[38;5;66;03m# We can make for cycle to provide every sentence embedding\u001b[39;00m\n\u001b[1;32m      4\u001b[0m \u001b[38;5;28;01mfor\u001b[39;00m _sentence \u001b[38;5;129;01min\u001b[39;00m stem_word_list:\n\u001b[0;32m----> 5\u001b[0m     sentence_emb \u001b[38;5;241m=\u001b[39m \u001b[43mmodel\u001b[49m\u001b[38;5;241m.\u001b[39mwv\u001b[38;5;241m.\u001b[39msimilarity(_sentence)\n\u001b[1;32m      6\u001b[0m     emb_list\u001b[38;5;241m.\u001b[39mappend(sentence_emb)\n\u001b[1;32m      7\u001b[0m     \u001b[38;5;28mprint\u001b[39m(\u001b[38;5;124m'\u001b[39m\u001b[38;5;124mPositive (P) or negative (N)\u001b[39m\u001b[38;5;124m'\u001b[39m, sentence_emb)\n",
      "\u001b[0;31mNameError\u001b[0m: name 'model' is not defined"
     ]
    }
   ],
   "source": [
    "sentence_emb = model.wv.similarity(X)"
   ]
  },
  {
   "cell_type": "code",
   "execution_count": 109,
   "id": "3be970cd-9a83-4c81-94f4-7493f90c5f13",
   "metadata": {},
   "outputs": [
    {
     "ename": "NameError",
     "evalue": "name 'model' is not defined",
     "output_type": "error",
     "traceback": [
      "\u001b[0;31m---------------------------------------------------------------------------\u001b[0m",
      "\u001b[0;31mNameError\u001b[0m                                 Traceback (most recent call last)",
      "Cell \u001b[0;32mIn[109], line 1\u001b[0m\n\u001b[0;32m----> 1\u001b[0m sentence_emb \u001b[38;5;241m=\u001b[39m \u001b[43mmodel\u001b[49m\u001b[38;5;241m.\u001b[39mwv\u001b[38;5;241m.\u001b[39msimilarity(y)\n",
      "\u001b[0;31mNameError\u001b[0m: name 'model' is not defined"
     ]
    }
   ],
   "source": [
    "sentence_emb = model.wv.similarity(y)"
   ]
  },
  {
   "cell_type": "code",
   "execution_count": null,
   "id": "0d71b3cc-eb52-4f76-9b89-b0d78751d7f2",
   "metadata": {},
   "outputs": [],
   "source": []
  }
 ],
 "metadata": {
  "kernelspec": {
   "display_name": "Python 3 (ipykernel)",
   "language": "python",
   "name": "python3"
  },
  "language_info": {
   "codemirror_mode": {
    "name": "ipython",
    "version": 3
   },
   "file_extension": ".py",
   "mimetype": "text/x-python",
   "name": "python",
   "nbconvert_exporter": "python",
   "pygments_lexer": "ipython3",
   "version": "3.10.12"
  }
 },
 "nbformat": 4,
 "nbformat_minor": 5
}
